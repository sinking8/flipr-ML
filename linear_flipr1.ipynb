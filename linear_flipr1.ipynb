{
 "cells": [
  {
   "cell_type": "code",
   "execution_count": 11,
   "metadata": {},
   "outputs": [],
   "source": [
    "import numpy as np\n",
    "import pandas as pd\n",
    "import matplotlib.pyplot as plt\n",
    "import seaborn as sns\n",
    "from sklearn.linear_model import LinearRegression\n",
    "from sklearn.metrics import classification_report\n",
    "from sklearn.model_selection import train_test_split"
   ]
  },
  {
   "cell_type": "code",
   "execution_count": 2,
   "metadata": {},
   "outputs": [],
   "source": [
    "data_train=pd.DataFrame(pd.read_excel(\"Train_dataset.xlsx\"))\n",
    "x_test =pd.DataFrame(pd.read_excel(\"Test_dataset.xlsx\"))"
   ]
  },
  {
   "cell_type": "code",
   "execution_count": 3,
   "metadata": {},
   "outputs": [
    {
     "data": {
      "text/html": [
       "<div>\n",
       "<style scoped>\n",
       "    .dataframe tbody tr th:only-of-type {\n",
       "        vertical-align: middle;\n",
       "    }\n",
       "\n",
       "    .dataframe tbody tr th {\n",
       "        vertical-align: top;\n",
       "    }\n",
       "\n",
       "    .dataframe thead th {\n",
       "        text-align: right;\n",
       "    }\n",
       "</style>\n",
       "<table border=\"1\" class=\"dataframe\">\n",
       "  <thead>\n",
       "    <tr style=\"text-align: right;\">\n",
       "      <th></th>\n",
       "      <th>City</th>\n",
       "      <th>State</th>\n",
       "      <th>Type</th>\n",
       "      <th>Population [2011]</th>\n",
       "      <th>Popuation [2001]</th>\n",
       "      <th>Sex Ratio</th>\n",
       "      <th>Median Age</th>\n",
       "      <th>Avg Temp</th>\n",
       "      <th>SWM</th>\n",
       "      <th>Toilets Avl</th>\n",
       "      <th>Water Purity</th>\n",
       "      <th>H Index</th>\n",
       "      <th>Female Population</th>\n",
       "      <th># of hospitals</th>\n",
       "      <th>Foreign Visitors</th>\n",
       "      <th>Covid Cases</th>\n",
       "    </tr>\n",
       "  </thead>\n",
       "  <tbody>\n",
       "    <tr>\n",
       "      <th>0</th>\n",
       "      <td>Mumbai</td>\n",
       "      <td>Maharashtra</td>\n",
       "      <td>M.C</td>\n",
       "      <td>12442373.0</td>\n",
       "      <td>11978450.0</td>\n",
       "      <td>878.0</td>\n",
       "      <td>23.0</td>\n",
       "      <td>32.0</td>\n",
       "      <td>MEDIUM</td>\n",
       "      <td>219.0</td>\n",
       "      <td>150.0</td>\n",
       "      <td>0.700440</td>\n",
       "      <td>10924403.0</td>\n",
       "      <td>159.0</td>\n",
       "      <td>4408916.0</td>\n",
       "      <td>163115</td>\n",
       "    </tr>\n",
       "    <tr>\n",
       "      <th>1</th>\n",
       "      <td>Delhi</td>\n",
       "      <td>Delhi</td>\n",
       "      <td>M.C</td>\n",
       "      <td>11007835.0</td>\n",
       "      <td>9879172.0</td>\n",
       "      <td>858.0</td>\n",
       "      <td>27.0</td>\n",
       "      <td>30.0</td>\n",
       "      <td>MEDIUM</td>\n",
       "      <td>215.0</td>\n",
       "      <td>196.0</td>\n",
       "      <td>0.920018</td>\n",
       "      <td>9444722.0</td>\n",
       "      <td>148.0</td>\n",
       "      <td>2379169.0</td>\n",
       "      <td>80188</td>\n",
       "    </tr>\n",
       "    <tr>\n",
       "      <th>2</th>\n",
       "      <td>Bangalore</td>\n",
       "      <td>Karnataka</td>\n",
       "      <td>MPUA</td>\n",
       "      <td>8436675.0</td>\n",
       "      <td>4301326.0</td>\n",
       "      <td>936.0</td>\n",
       "      <td>28.0</td>\n",
       "      <td>37.0</td>\n",
       "      <td>HIGH</td>\n",
       "      <td>212.0</td>\n",
       "      <td>102.0</td>\n",
       "      <td>0.097085</td>\n",
       "      <td>7896728.0</td>\n",
       "      <td>123.0</td>\n",
       "      <td>636502.0</td>\n",
       "      <td>141000</td>\n",
       "    </tr>\n",
       "    <tr>\n",
       "      <th>3</th>\n",
       "      <td>Hyderabad</td>\n",
       "      <td>Telangana</td>\n",
       "      <td>MPUA</td>\n",
       "      <td>6809970.0</td>\n",
       "      <td>3637483.0</td>\n",
       "      <td>930.0</td>\n",
       "      <td>23.0</td>\n",
       "      <td>31.0</td>\n",
       "      <td>MEDIUM</td>\n",
       "      <td>217.0</td>\n",
       "      <td>118.0</td>\n",
       "      <td>0.827744</td>\n",
       "      <td>6333272.0</td>\n",
       "      <td>110.0</td>\n",
       "      <td>126078.0</td>\n",
       "      <td>55123</td>\n",
       "    </tr>\n",
       "    <tr>\n",
       "      <th>4</th>\n",
       "      <td>Ahmedabad</td>\n",
       "      <td>Gujarat</td>\n",
       "      <td>MPUA</td>\n",
       "      <td>5570585.0</td>\n",
       "      <td>3520085.0</td>\n",
       "      <td>852.0</td>\n",
       "      <td>29.0</td>\n",
       "      <td>25.0</td>\n",
       "      <td>LOW</td>\n",
       "      <td>227.0</td>\n",
       "      <td>109.0</td>\n",
       "      <td>0.847941</td>\n",
       "      <td>4746138.0</td>\n",
       "      <td>73.0</td>\n",
       "      <td>284973.0</td>\n",
       "      <td>33204</td>\n",
       "    </tr>\n",
       "  </tbody>\n",
       "</table>\n",
       "</div>"
      ],
      "text/plain": [
       "        City        State  Type  Population [2011]  Popuation [2001]  \\\n",
       "0     Mumbai  Maharashtra   M.C         12442373.0        11978450.0   \n",
       "1      Delhi        Delhi   M.C         11007835.0         9879172.0   \n",
       "2  Bangalore    Karnataka  MPUA          8436675.0         4301326.0   \n",
       "3  Hyderabad    Telangana  MPUA          6809970.0         3637483.0   \n",
       "4  Ahmedabad      Gujarat  MPUA          5570585.0         3520085.0   \n",
       "\n",
       "   Sex Ratio  Median Age  Avg Temp     SWM  Toilets Avl  Water Purity  \\\n",
       "0      878.0        23.0      32.0  MEDIUM        219.0         150.0   \n",
       "1      858.0        27.0      30.0  MEDIUM        215.0         196.0   \n",
       "2      936.0        28.0      37.0    HIGH        212.0         102.0   \n",
       "3      930.0        23.0      31.0  MEDIUM        217.0         118.0   \n",
       "4      852.0        29.0      25.0     LOW        227.0         109.0   \n",
       "\n",
       "    H Index  Female Population  # of hospitals  Foreign Visitors  Covid Cases  \n",
       "0  0.700440         10924403.0           159.0         4408916.0       163115  \n",
       "1  0.920018          9444722.0           148.0         2379169.0        80188  \n",
       "2  0.097085          7896728.0           123.0          636502.0       141000  \n",
       "3  0.827744          6333272.0           110.0          126078.0        55123  \n",
       "4  0.847941          4746138.0            73.0          284973.0        33204  "
      ]
     },
     "execution_count": 3,
     "metadata": {},
     "output_type": "execute_result"
    }
   ],
   "source": [
    "data_train.head()\n",
    "#x_test.head()"
   ]
  },
  {
   "cell_type": "code",
   "execution_count": 4,
   "metadata": {},
   "outputs": [],
   "source": [
    "x_train=data_train.drop([\"Covid Cases\",\"Type\",\"City\",\"State\"],axis=1)\n",
    "y_train=data_train[\"Covid Cases\"]"
   ]
  },
  {
   "cell_type": "code",
   "execution_count": 5,
   "metadata": {},
   "outputs": [],
   "source": [
    "#data_train.isnan().sum()\n",
    "x_train = x_train.fillna(0)\n",
    "#x.columns"
   ]
  },
  {
   "cell_type": "code",
   "execution_count": 6,
   "metadata": {},
   "outputs": [],
   "source": [
    "from sklearn.preprocessing import MinMaxScaler\n",
    "scaler = MinMaxScaler()"
   ]
  },
  {
   "cell_type": "code",
   "execution_count": 7,
   "metadata": {},
   "outputs": [],
   "source": [
    "#SCALING POPULATION 2011\n",
    "scaler_population2011 = scaler.fit(np.array(x_train['Population [2011]']).reshape(-1,1))\n",
    "x_train['Population [2011]'] = scaler_population2011.transform(np.array(x_train['Population [2011]']).reshape(-1,1))\n",
    "x_test['Population [2011]'] = scaler_population2011.transform(np.array(x_test['Population [2011]']).reshape(-1,1))\n",
    "\n",
    "#SCALING POPULATION 2001\n",
    "scaler_population2001 = scaler.fit(np.array(x_train['Popuation [2001]']).reshape(-1,1))\n",
    "x_train['Popuation [2001]'] = scaler_population2011.transform(np.array(x_train['Popuation [2001]']).reshape(-1,1))\n",
    "x_test['Popuation [2001]'] = scaler_population2011.transform(np.array(x_test['Popuation [2001]']).reshape(-1,1))\n",
    "\n",
    "#SCALING FEMALE POPULATION\n",
    "scaler_femal_popul = scaler.fit(np.array(x_train['Female Population']).reshape(-1,1))\n",
    "x_train['Female Population'] = scaler_femal_popul.transform(np.array(x_train['Female Population']).reshape(-1,1))\n",
    "x_test['Female Population'] = scaler_femal_popul.transform(np.array(x_test['Female Population']).reshape(-1,1))\n",
    "\n",
    "#SCALING FOREIGN VISITORS\n",
    "scaler_foreign_visit = scaler.fit(np.array(x_train['Foreign Visitors']).reshape(-1,1))\n",
    "x_train['Foreign Visitors'] = scaler_foreign_visit.transform(np.array(x_train['Foreign Visitors']).reshape(-1,1))\n",
    "x_test['Foreign Visitors']  = scaler_foreign_visit.transform(np.array(x_test['Foreign Visitors']).reshape(-1,1))"
   ]
  },
  {
   "cell_type": "code",
   "execution_count": 8,
   "metadata": {},
   "outputs": [],
   "source": [
    "SWM_dict = {\"LOW\":0,\"MEDIUM\":1,\"HIGH\":2}\n",
    "x_train['SWM'].replace(SWM_dict,inplace=True)\n",
    "x_test['SWM'].replace(SWM_dict,inplace=True)\n",
    "#x['SWM'].head()"
   ]
  },
  {
   "cell_type": "code",
   "execution_count": 9,
   "metadata": {},
   "outputs": [],
   "source": [
    "x_train, x_test, y_train, y_test = train_test_split(x_train,y_train, test_size=0.4, random_state=101)"
   ]
  },
  {
   "cell_type": "code",
   "execution_count": 12,
   "metadata": {},
   "outputs": [],
   "source": [
    "lm = LinearRegression()"
   ]
  },
  {
   "cell_type": "code",
   "execution_count": 13,
   "metadata": {},
   "outputs": [
    {
     "data": {
      "text/plain": [
       "LinearRegression(copy_X=True, fit_intercept=True, n_jobs=None,\n",
       "         normalize=False)"
      ]
     },
     "execution_count": 13,
     "metadata": {},
     "output_type": "execute_result"
    }
   ],
   "source": [
    "lm.fit(x_train,y_train)"
   ]
  },
  {
   "cell_type": "code",
   "execution_count": 14,
   "metadata": {},
   "outputs": [
    {
     "name": "stdout",
     "output_type": "stream",
     "text": [
      "40119.36243205103\n"
     ]
    }
   ],
   "source": [
    "print(lm.intercept_)"
   ]
  },
  {
   "cell_type": "code",
   "execution_count": 17,
   "metadata": {},
   "outputs": [
    {
     "data": {
      "text/html": [
       "<div>\n",
       "<style scoped>\n",
       "    .dataframe tbody tr th:only-of-type {\n",
       "        vertical-align: middle;\n",
       "    }\n",
       "\n",
       "    .dataframe tbody tr th {\n",
       "        vertical-align: top;\n",
       "    }\n",
       "\n",
       "    .dataframe thead th {\n",
       "        text-align: right;\n",
       "    }\n",
       "</style>\n",
       "<table border=\"1\" class=\"dataframe\">\n",
       "  <thead>\n",
       "    <tr style=\"text-align: right;\">\n",
       "      <th></th>\n",
       "      <th>Coefficient</th>\n",
       "    </tr>\n",
       "  </thead>\n",
       "  <tbody>\n",
       "    <tr>\n",
       "      <th>Population [2011]</th>\n",
       "      <td>-20271.002448</td>\n",
       "    </tr>\n",
       "    <tr>\n",
       "      <th>Popuation [2001]</th>\n",
       "      <td>62569.156133</td>\n",
       "    </tr>\n",
       "    <tr>\n",
       "      <th>Sex Ratio</th>\n",
       "      <td>-57.699187</td>\n",
       "    </tr>\n",
       "    <tr>\n",
       "      <th>Median Age</th>\n",
       "      <td>484.601755</td>\n",
       "    </tr>\n",
       "    <tr>\n",
       "      <th>Avg Temp</th>\n",
       "      <td>80.198261</td>\n",
       "    </tr>\n",
       "    <tr>\n",
       "      <th>SWM</th>\n",
       "      <td>246.820817</td>\n",
       "    </tr>\n",
       "    <tr>\n",
       "      <th>Toilets Avl</th>\n",
       "      <td>-18.145040</td>\n",
       "    </tr>\n",
       "    <tr>\n",
       "      <th>Water Purity</th>\n",
       "      <td>-6.992562</td>\n",
       "    </tr>\n",
       "    <tr>\n",
       "      <th>H Index</th>\n",
       "      <td>-866.131866</td>\n",
       "    </tr>\n",
       "    <tr>\n",
       "      <th>Female Population</th>\n",
       "      <td>103945.669608</td>\n",
       "    </tr>\n",
       "    <tr>\n",
       "      <th># of hospitals</th>\n",
       "      <td>52.879047</td>\n",
       "    </tr>\n",
       "    <tr>\n",
       "      <th>Foreign Visitors</th>\n",
       "      <td>3195.101361</td>\n",
       "    </tr>\n",
       "  </tbody>\n",
       "</table>\n",
       "</div>"
      ],
      "text/plain": [
       "                     Coefficient\n",
       "Population [2011]  -20271.002448\n",
       "Popuation [2001]    62569.156133\n",
       "Sex Ratio             -57.699187\n",
       "Median Age            484.601755\n",
       "Avg Temp               80.198261\n",
       "SWM                   246.820817\n",
       "Toilets Avl           -18.145040\n",
       "Water Purity           -6.992562\n",
       "H Index              -866.131866\n",
       "Female Population  103945.669608\n",
       "# of hospitals         52.879047\n",
       "Foreign Visitors     3195.101361"
      ]
     },
     "execution_count": 17,
     "metadata": {},
     "output_type": "execute_result"
    }
   ],
   "source": [
    "coeff_df = pd.DataFrame(lm.coef_,x_train.columns,columns=['Coefficient'])\n",
    "coeff_df"
   ]
  },
  {
   "cell_type": "code",
   "execution_count": 19,
   "metadata": {},
   "outputs": [],
   "source": [
    "predictions = lm.predict(x_test)"
   ]
  },
  {
   "cell_type": "code",
   "execution_count": 20,
   "metadata": {},
   "outputs": [
    {
     "data": {
      "text/plain": [
       "array([ 5.93317637e+03,  6.74953458e+03,  1.93845079e+04,  1.00918952e+04,\n",
       "        5.87728116e+03,  1.14386561e+04,  3.96208686e+04,  2.95078481e+03,\n",
       "        2.18984567e+03,  9.81415538e+03,  3.63511728e+02,  8.70018767e+03,\n",
       "       -6.86504284e+02,  6.16548890e+03,  6.08211510e+03, -5.76834805e+02,\n",
       "        6.31697735e+03, -9.40932133e+02,  6.31221903e+03,  6.85308715e+03,\n",
       "        2.56605535e+03,  1.40248025e+03,  1.01532879e+05,  6.31727725e+03,\n",
       "        5.75811065e+03,  6.97735419e+02,  1.06001269e+04, -8.18535614e+02,\n",
       "        1.41775953e+03,  1.07358446e+04,  1.62301483e+04,  3.52094684e+03,\n",
       "       -8.08612929e+02,  9.70556106e+03,  6.78236025e+03,  6.58128645e+03,\n",
       "        9.33339693e+02,  9.51963324e+03,  3.54638653e+03,  4.22869582e+03,\n",
       "       -4.07446509e+03,  7.27400606e+02,  5.20679781e+02,  1.73981160e+03,\n",
       "        4.01751864e+03,  4.89315224e+03,  4.48342576e+03,  8.78421608e+03,\n",
       "        1.73095480e+04,  4.05626507e+03,  3.09346742e+03,  3.89601245e+04,\n",
       "        8.06896524e+03,  3.59036608e+03,  5.03175678e+03,  4.55243014e+03,\n",
       "        1.21595011e+03,  1.01767442e+04,  2.01625350e+03,  8.43520487e+03,\n",
       "        4.28260653e+04,  9.98659320e+03,  4.63277426e+03,  1.13795566e+03,\n",
       "        7.56445007e+03,  4.66527823e+03,  1.96907477e+03,  4.47676684e+03,\n",
       "        2.06865062e+03, -7.65904360e+02,  5.53485146e+03,  1.23504008e+03,\n",
       "        2.45217438e+03,  3.69635999e+03,  3.72606403e+03,  5.24490693e+02,\n",
       "        1.23762779e+03,  2.06301206e+03,  5.89034006e+03,  2.65346126e+03,\n",
       "        2.86452018e+03,  7.64615348e+03, -5.35336434e+02,  6.15943007e+03,\n",
       "        8.02794238e+03,  1.01518940e+04,  4.03771568e+03,  7.51114833e+03,\n",
       "       -9.85727185e+02,  3.49959696e+03,  4.68042381e+03, -4.20868673e+02,\n",
       "        3.42624751e+03,  3.53700551e+03,  4.54009337e+03,  9.51608313e+03,\n",
       "        7.08097653e+03,  2.65611723e+03,  6.56157317e+03,  2.17732330e+02,\n",
       "        7.00749098e+03,  7.64956497e+03,  3.61012550e+03, -1.08679059e+03,\n",
       "        8.09951082e+03,  4.54099199e+03,  2.10691194e+04,  7.27652231e+03,\n",
       "        2.42749499e+03,  3.79263031e+03, -2.60554902e+03,  7.49901257e+03,\n",
       "        8.92456077e+03,  9.77077566e+03, -4.28191669e+02,  3.02354765e+03,\n",
       "        5.17052234e+03,  3.69163306e+03,  2.25268459e+03,  4.60031184e+03,\n",
       "        3.03034699e+03,  2.61433843e+02,  2.38684152e+03,  1.84618934e+03,\n",
       "        6.93193982e+03, -2.56410665e+03, -7.88957003e+03,  2.94995071e+03,\n",
       "        1.96154519e+03,  3.93322011e+02,  3.63810860e+03,  5.27872247e+03,\n",
       "        3.92156353e+03,  3.50800026e+03, -2.34099522e+02,  7.92776472e+02,\n",
       "        1.03821553e+04,  7.23943716e+03,  8.16533234e+03,  4.97676628e+03,\n",
       "        2.68207594e+03,  7.88985802e+03,  3.79682770e+03,  1.53039142e+04,\n",
       "        2.59193883e+04,  3.98528771e+03,  4.02256366e+02,  2.44922549e+03,\n",
       "        2.91193212e+03,  2.53798858e+03,  1.33764331e+04,  3.95147538e+04,\n",
       "        7.26821713e+03,  3.99321250e+04,  8.16769325e+03,  5.14778577e+03,\n",
       "        3.02174943e+03, -1.49519127e+02,  6.57642745e+03,  2.62789435e+03,\n",
       "        2.90309386e+03, -1.13953599e+02,  9.03573066e+03,  1.72451942e+03,\n",
       "        2.13023920e+04,  8.62008529e+02,  3.57114361e+03,  3.92493829e+04,\n",
       "        8.92971772e+04, -4.44142682e+02, -7.23811708e+02, -4.81445563e+02,\n",
       "        5.89292018e+03,  2.93349981e+03,  8.03587137e+03,  4.56973279e+03,\n",
       "        5.65476006e+03,  7.13567573e+03,  7.09851973e+03,  1.13803593e+04,\n",
       "        4.08500130e+03,  5.11805691e+03,  4.19194656e+03,  6.56287112e+03,\n",
       "        3.00498443e+03,  1.45154147e+03,  1.16360851e+02,  9.26839871e+03,\n",
       "       -1.64848995e+02,  8.62062250e+03,  3.70287333e+03,  9.10455629e+01,\n",
       "        3.32289866e+03,  5.69211955e+03,  1.29507984e+04,  3.76563461e+04,\n",
       "       -5.47293518e+02,  7.93992975e+02,  2.27939579e+04,  3.52686417e+03,\n",
       "        2.97854606e+03,  7.52784114e+03,  8.62474472e+03,  1.47172500e+03,\n",
       "        5.99280781e+04,  5.26524257e+02,  5.36647238e+03,  2.42106077e+03,\n",
       "        6.16116113e+03,  2.64500806e+03,  3.76891618e+03,  6.77433993e+03,\n",
       "        6.76588776e+03, -9.41366569e+02,  6.34969300e+03,  6.56605711e+03,\n",
       "        6.79298500e+03,  1.53828689e+04,  3.41117038e+03,  9.74946520e+03,\n",
       "        6.54371544e+03,  1.66603382e+03, -4.12762899e+02,  7.83171756e+03,\n",
       "        4.26493072e+03,  2.32759978e+03,  4.52089668e+03,  5.32552151e+03,\n",
       "        2.01434767e+03,  5.66819930e+03,  3.28875652e+03,  1.19634250e+04,\n",
       "        5.01208314e+03,  1.16924928e+02,  4.32997300e+03,  1.40391841e+03,\n",
       "        7.93709867e+03,  6.15288151e+03,  1.45896237e+04,  6.02135103e+03,\n",
       "        1.17726682e+04,  8.06033327e+03,  5.39909104e+03,  9.01597031e+03,\n",
       "        1.94635110e+03,  5.55618344e+03, -1.53462290e+02,  4.02578821e+03,\n",
       "        8.06037195e+03,  4.14543904e+03,  1.02440210e+04,  9.73480538e+03,\n",
       "        1.43956682e+03,  4.22352408e+03,  5.48613025e+03,  1.12306969e+04,\n",
       "       -1.54101630e+03, -3.25305242e+03,  7.98838961e+02,  9.48678992e+03,\n",
       "        8.14623592e+03,  5.79438591e+03,  1.27680945e+04,  8.63325299e+03,\n",
       "        3.10117014e+03,  4.98624622e+03,  1.56403264e+03,  1.81334847e+04,\n",
       "        3.49242659e+03,  7.01089066e+03,  7.38624776e+03,  5.90572273e+03,\n",
       "        4.14066231e+03,  2.78045909e+03,  4.08166469e+03,  3.22498707e+02,\n",
       "        7.38043658e+03, -7.48658203e+02,  1.01346860e+03,  1.40700775e+04,\n",
       "        4.98455031e+03,  9.05439401e+03,  7.69708708e+03,  1.17639863e+04,\n",
       "        1.46395816e+04,  4.19673615e+03,  4.03900971e+03,  6.93848350e+03,\n",
       "        5.72181422e+03,  3.49201044e+03,  7.71089566e+03,  4.62910403e+03,\n",
       "        1.05829328e+04, -1.37604803e+03,  3.72976492e+03,  2.79730028e+03,\n",
       "       -1.07339076e+03,  6.42033403e+03,  1.43613187e+03,  1.04382482e+04,\n",
       "        9.04079200e+03,  1.55447757e+05,  9.57410949e+03,  1.25165776e+03,\n",
       "        1.99965971e+04,  9.37011393e+03,  7.09014194e+03,  5.64600774e+03,\n",
       "        7.99352141e+03,  6.43793683e+03,  5.02306816e+03,  3.61092978e+03,\n",
       "        1.39842753e+03,  8.58872953e+03,  6.99886555e+03])"
      ]
     },
     "execution_count": 20,
     "metadata": {},
     "output_type": "execute_result"
    }
   ],
   "source": [
    "predictions"
   ]
  },
  {
   "cell_type": "code",
   "execution_count": null,
   "metadata": {},
   "outputs": [],
   "source": []
  }
 ],
 "metadata": {
  "kernelspec": {
   "display_name": "Python 3",
   "language": "python",
   "name": "python3"
  },
  "language_info": {
   "codemirror_mode": {
    "name": "ipython",
    "version": 3
   },
   "file_extension": ".py",
   "mimetype": "text/x-python",
   "name": "python",
   "nbconvert_exporter": "python",
   "pygments_lexer": "ipython3",
   "version": "3.7.1"
  }
 },
 "nbformat": 4,
 "nbformat_minor": 2
}
