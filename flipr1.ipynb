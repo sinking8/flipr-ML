{
 "cells": [
  {
   "cell_type": "code",
   "execution_count": 1,
   "metadata": {},
   "outputs": [],
   "source": [
    "#importing packages\n",
    "import numpy as np\n",
    "import pandas as pd\n",
    "from sklearn.linear_model import LogisticRegression"
   ]
  },
  {
   "cell_type": "code",
   "execution_count": 2,
   "metadata": {},
   "outputs": [],
   "source": [
    "data_train=pd.DataFrame(pd.read_excel(\"Train_dataset.xlsx\"))\n",
    "x_test =pd.DataFrame(pd.read_excel(\"Test_dataset.xlsx\"))"
   ]
  },
  {
   "cell_type": "code",
   "execution_count": 3,
   "metadata": {},
   "outputs": [
    {
     "data": {
      "text/html": [
       "<div>\n",
       "<style scoped>\n",
       "    .dataframe tbody tr th:only-of-type {\n",
       "        vertical-align: middle;\n",
       "    }\n",
       "\n",
       "    .dataframe tbody tr th {\n",
       "        vertical-align: top;\n",
       "    }\n",
       "\n",
       "    .dataframe thead th {\n",
       "        text-align: right;\n",
       "    }\n",
       "</style>\n",
       "<table border=\"1\" class=\"dataframe\">\n",
       "  <thead>\n",
       "    <tr style=\"text-align: right;\">\n",
       "      <th></th>\n",
       "      <th>City</th>\n",
       "      <th>State</th>\n",
       "      <th>Type</th>\n",
       "      <th>Population [2011]</th>\n",
       "      <th>Popuation [2001]</th>\n",
       "      <th>Sex Ratio</th>\n",
       "      <th>Median Age</th>\n",
       "      <th>Avg Temp</th>\n",
       "      <th>SWM</th>\n",
       "      <th>Toilets Avl</th>\n",
       "      <th>Water Purity</th>\n",
       "      <th>H Index</th>\n",
       "      <th>Female Population</th>\n",
       "      <th># of hospitals</th>\n",
       "      <th>Foreign Visitors</th>\n",
       "      <th>Covid Cases</th>\n",
       "    </tr>\n",
       "  </thead>\n",
       "  <tbody>\n",
       "    <tr>\n",
       "      <td>0</td>\n",
       "      <td>Mumbai</td>\n",
       "      <td>Maharashtra</td>\n",
       "      <td>M.C</td>\n",
       "      <td>12442373.0</td>\n",
       "      <td>11978450.0</td>\n",
       "      <td>878.0</td>\n",
       "      <td>23.0</td>\n",
       "      <td>32.0</td>\n",
       "      <td>MEDIUM</td>\n",
       "      <td>219.0</td>\n",
       "      <td>150.0</td>\n",
       "      <td>0.700440</td>\n",
       "      <td>10924403.0</td>\n",
       "      <td>159.0</td>\n",
       "      <td>4408916.0</td>\n",
       "      <td>163115</td>\n",
       "    </tr>\n",
       "    <tr>\n",
       "      <td>1</td>\n",
       "      <td>Delhi</td>\n",
       "      <td>Delhi</td>\n",
       "      <td>M.C</td>\n",
       "      <td>11007835.0</td>\n",
       "      <td>9879172.0</td>\n",
       "      <td>858.0</td>\n",
       "      <td>27.0</td>\n",
       "      <td>30.0</td>\n",
       "      <td>MEDIUM</td>\n",
       "      <td>215.0</td>\n",
       "      <td>196.0</td>\n",
       "      <td>0.920018</td>\n",
       "      <td>9444722.0</td>\n",
       "      <td>148.0</td>\n",
       "      <td>2379169.0</td>\n",
       "      <td>80188</td>\n",
       "    </tr>\n",
       "    <tr>\n",
       "      <td>2</td>\n",
       "      <td>Bangalore</td>\n",
       "      <td>Karnataka</td>\n",
       "      <td>MPUA</td>\n",
       "      <td>8436675.0</td>\n",
       "      <td>4301326.0</td>\n",
       "      <td>936.0</td>\n",
       "      <td>28.0</td>\n",
       "      <td>37.0</td>\n",
       "      <td>HIGH</td>\n",
       "      <td>212.0</td>\n",
       "      <td>102.0</td>\n",
       "      <td>0.097085</td>\n",
       "      <td>7896728.0</td>\n",
       "      <td>123.0</td>\n",
       "      <td>636502.0</td>\n",
       "      <td>141000</td>\n",
       "    </tr>\n",
       "    <tr>\n",
       "      <td>3</td>\n",
       "      <td>Hyderabad</td>\n",
       "      <td>Telangana</td>\n",
       "      <td>MPUA</td>\n",
       "      <td>6809970.0</td>\n",
       "      <td>3637483.0</td>\n",
       "      <td>930.0</td>\n",
       "      <td>23.0</td>\n",
       "      <td>31.0</td>\n",
       "      <td>MEDIUM</td>\n",
       "      <td>217.0</td>\n",
       "      <td>118.0</td>\n",
       "      <td>0.827744</td>\n",
       "      <td>6333272.0</td>\n",
       "      <td>110.0</td>\n",
       "      <td>126078.0</td>\n",
       "      <td>55123</td>\n",
       "    </tr>\n",
       "    <tr>\n",
       "      <td>4</td>\n",
       "      <td>Ahmedabad</td>\n",
       "      <td>Gujarat</td>\n",
       "      <td>MPUA</td>\n",
       "      <td>5570585.0</td>\n",
       "      <td>3520085.0</td>\n",
       "      <td>852.0</td>\n",
       "      <td>29.0</td>\n",
       "      <td>25.0</td>\n",
       "      <td>LOW</td>\n",
       "      <td>227.0</td>\n",
       "      <td>109.0</td>\n",
       "      <td>0.847941</td>\n",
       "      <td>4746138.0</td>\n",
       "      <td>73.0</td>\n",
       "      <td>284973.0</td>\n",
       "      <td>33204</td>\n",
       "    </tr>\n",
       "  </tbody>\n",
       "</table>\n",
       "</div>"
      ],
      "text/plain": [
       "        City        State  Type  Population [2011]  Popuation [2001]  \\\n",
       "0     Mumbai  Maharashtra   M.C         12442373.0        11978450.0   \n",
       "1      Delhi        Delhi   M.C         11007835.0         9879172.0   \n",
       "2  Bangalore    Karnataka  MPUA          8436675.0         4301326.0   \n",
       "3  Hyderabad    Telangana  MPUA          6809970.0         3637483.0   \n",
       "4  Ahmedabad      Gujarat  MPUA          5570585.0         3520085.0   \n",
       "\n",
       "   Sex Ratio  Median Age  Avg Temp     SWM  Toilets Avl  Water Purity  \\\n",
       "0      878.0        23.0      32.0  MEDIUM        219.0         150.0   \n",
       "1      858.0        27.0      30.0  MEDIUM        215.0         196.0   \n",
       "2      936.0        28.0      37.0    HIGH        212.0         102.0   \n",
       "3      930.0        23.0      31.0  MEDIUM        217.0         118.0   \n",
       "4      852.0        29.0      25.0     LOW        227.0         109.0   \n",
       "\n",
       "    H Index  Female Population  # of hospitals  Foreign Visitors  Covid Cases  \n",
       "0  0.700440         10924403.0           159.0         4408916.0       163115  \n",
       "1  0.920018          9444722.0           148.0         2379169.0        80188  \n",
       "2  0.097085          7896728.0           123.0          636502.0       141000  \n",
       "3  0.827744          6333272.0           110.0          126078.0        55123  \n",
       "4  0.847941          4746138.0            73.0          284973.0        33204  "
      ]
     },
     "execution_count": 3,
     "metadata": {},
     "output_type": "execute_result"
    }
   ],
   "source": [
    "data_train.head()\n",
    "#x_test.columns\n",
    "#x_test.head()\n",
    "#print(x_train.columns)"
   ]
  },
  {
   "cell_type": "code",
   "execution_count": 4,
   "metadata": {},
   "outputs": [],
   "source": [
    "x_train=data_train.drop([\"Covid Cases\",\"City\",\"State\",\"Type\"],axis=1)\n",
    "cities =x_test['City']\n",
    "x_test=x_test.drop([\"City\",\"State\",\"Type\"],axis=1)\n",
    "y_train=data_train[\"Covid Cases\"]"
   ]
  },
  {
   "cell_type": "code",
   "execution_count": 5,
   "metadata": {},
   "outputs": [],
   "source": [
    "#data_train.isnan().sum()\n",
    "#x.columns\n",
    "x_train = x_train.fillna(0)\n",
    "x_test = x_test.fillna(0)"
   ]
  },
  {
   "cell_type": "code",
   "execution_count": 6,
   "metadata": {},
   "outputs": [],
   "source": [
    "from sklearn.preprocessing import MinMaxScaler\n",
    "scaler = MinMaxScaler()"
   ]
  },
  {
   "cell_type": "code",
   "execution_count": 7,
   "metadata": {},
   "outputs": [],
   "source": [
    "#SCALING POPULATION 2011\n",
    "scaler_population2011 = scaler.fit(np.array(x_train['Population [2011]']).reshape(-1,1))\n",
    "x_train['Population [2011]'] = scaler_population2011.transform(np.array(x_train['Population [2011]']).reshape(-1,1))\n",
    "x_test['Population [2011]'] = scaler_population2011.transform(np.array(x_test['Population [2011]']).reshape(-1,1))\n",
    "\n",
    "#SCALING POPULATION 2001\n",
    "scaler_population2001 = scaler.fit(np.array(x_train['Popuation [2001]']).reshape(-1,1))\n",
    "x_train['Popuation [2001]'] = scaler_population2011.transform(np.array(x_train['Popuation [2001]']).reshape(-1,1))\n",
    "x_test['Popuation [2001]'] = scaler_population2011.transform(np.array(x_test['Popuation [2001]']).reshape(-1,1))\n",
    "\n",
    "#SCALING FEMALE POPULATION\n",
    "scaler_femal_popul = scaler.fit(np.array(x_train['Female Population']).reshape(-1,1))\n",
    "x_train['Female Population'] = scaler_femal_popul.transform(np.array(x_train['Female Population']).reshape(-1,1))\n",
    "x_test['Female Population'] = scaler_femal_popul.transform(np.array(x_test['Female Population']).reshape(-1,1))\n",
    "\n",
    "#SCALING FOREIGN VISITORS\n",
    "scaler_foreign_visit = scaler.fit(np.array(x_train['Foreign Visitors']).reshape(-1,1))\n",
    "x_train['Foreign Visitors'] = scaler_foreign_visit.transform(np.array(x_train['Foreign Visitors']).reshape(-1,1))\n",
    "x_test['Foreign Visitors']  = scaler_foreign_visit.transform(np.array(x_test['Foreign Visitors']).reshape(-1,1))"
   ]
  },
  {
   "cell_type": "code",
   "execution_count": 8,
   "metadata": {},
   "outputs": [],
   "source": [
    "SWM_dict = {\"LOW\":0,\"MEDIUM\":1,\"HIGH\":2}\n",
    "x_train['SWM'].replace(SWM_dict,inplace=True)\n",
    "x_test['SWM'].replace(SWM_dict,inplace=True)\n",
    "#x['SWM'].head()"
   ]
  },
  {
   "cell_type": "code",
   "execution_count": 9,
   "metadata": {},
   "outputs": [
    {
     "name": "stderr",
     "output_type": "stream",
     "text": [
      "C:\\Users\\Inspiron\\Anaconda3\\lib\\site-packages\\sklearn\\linear_model\\logistic.py:432: FutureWarning: Default solver will be changed to 'lbfgs' in 0.22. Specify a solver to silence this warning.\n",
      "  FutureWarning)\n",
      "C:\\Users\\Inspiron\\Anaconda3\\lib\\site-packages\\sklearn\\linear_model\\logistic.py:469: FutureWarning: Default multi_class will be changed to 'auto' in 0.22. Specify the multi_class option to silence this warning.\n",
      "  \"this warning.\", FutureWarning)\n"
     ]
    },
    {
     "data": {
      "text/plain": [
       "LogisticRegression(C=1.0, class_weight=None, dual=False, fit_intercept=True,\n",
       "                   intercept_scaling=1, l1_ratio=None, max_iter=100,\n",
       "                   multi_class='warn', n_jobs=None, penalty='l2',\n",
       "                   random_state=None, solver='warn', tol=0.0001, verbose=0,\n",
       "                   warm_start=False)"
      ]
     },
     "execution_count": 9,
     "metadata": {},
     "output_type": "execute_result"
    }
   ],
   "source": [
    "logmodel = LogisticRegression()\n",
    "logmodel.fit(x_train,y_train)"
   ]
  },
  {
   "cell_type": "code",
   "execution_count": 30,
   "metadata": {},
   "outputs": [
    {
     "data": {
      "text/plain": [
       "array([[  2285,   2052,   2506,   2052,   2490,   2220,   2523,   2490,\n",
       "          2265,   2220,   2220,   2029,   2012,   2220,   2029,   2523,\n",
       "          2265,   2208,   2001,   2506,   2265,   2069,   2445,   2490,\n",
       "          2069,   2490,   2628,   2220,   2250,   2490,   2460,   2490,\n",
       "          2204,   2208,   2490,   2490,   2490,   2188,   2208,   2081,\n",
       "          2490,   2220,   2523,   2081,  10280,   2208,   2052,   2220,\n",
       "          2052,   2523,   2487,   2584,   2523,   2490,   2490,   2208,\n",
       "          2390,   2205,   2265,   2490,   2490,   2490,   2208,   2490,\n",
       "          2487,   2490,   2554,   2184,   2016,   2208,   2895,   2523,\n",
       "          1043,   2487,   2089,   2250,   2490,   2220,   2204,   2265,\n",
       "          2069,   2490,   2430,   2220,   2103,   2490,   2089,   2220,\n",
       "          2430,   2523,   2220,   2523,   2490,   2430,   2523,   2628,\n",
       "          2490,   2628,   2490,   2220,   2490,   2523,   2481,   2490,\n",
       "          2584,   2390,   2490,   2208,   2490,   2490,   2372,   2490,\n",
       "          2445,   2208,   2208,   2390,   2523,   2220,   2490,   2561,\n",
       "          2220,   2523,   8263,   2220,   2490,   2490,   2390,   2213,\n",
       "          2268,   2490,   9361,   2895,   2584,   3315,  11537,   2506,\n",
       "          2465,   2220,   2554,   2506,   2052,   2581,   2523,   2490,\n",
       "          2506,   2554,   2027,   2052,   2213,   2490,   2490,   2523,\n",
       "          2390,   2490,   2213,   2481,   2068,   2490,   2490,   2359,\n",
       "          2285,   2285,   2910,   2490,   2523,   2490,   2490,   2490,\n",
       "          2523,   2551,   2213,   2103,   2523,   2523,   2523,   2523,\n",
       "          2490,   2353,   2490,   2523,   2467,   2069,   2213,   2001,\n",
       "          2523,   2220,   2069,   2523,   2208,   2203,   2686, 145606,\n",
       "          2686,   2523,   2490,   2478,   2490,   2208,   2490,   2523,\n",
       "          2523,   2490,   2506,   2213,   2220,   2523,   2490,   2490,\n",
       "          2089,   2430,   2285,   2081,   2628,   2029,   3151,   2523,\n",
       "          2121,   2490,   2523,   2490,   2506,   2490,   2220,   2460,\n",
       "          2554,   2220,   2901,   2796,   2490,   2490,   2523,   2265,\n",
       "          2240,   2490,   2490,   2265,   2584,   2390,   2490,   9441,\n",
       "          1043,   2220,   2490,   2390,   8263,   2208,   2029,   2089,\n",
       "          2478,   2490,   2523,   2220,   2490,   2268,   2390,   2359,\n",
       "          2490,   2265,   2091,   2490,   2490,   2220,   2390,   2220,\n",
       "          2506,   2490,   2490,   2390,   2091,   2390,   2490,   2430,\n",
       "          2490,   2390,   2089,   2490,   2523,   2490,   2320,   2584,\n",
       "          2220,   2420,   2523,   2445,   2490,   2285,   2220,   2523,\n",
       "          2490,   2390,   2490,   2208,   2490,   2089,   2523,   2490,\n",
       "          2490,   2523,   2478,   2490,   2460,   2739,   2515,   2220,\n",
       "          2490,   2285,   2029,   2490,   2490,   2506,   2220,   2523,\n",
       "          2490,   2220,   2213,   2490,   2213,   2490,   2213,   2091,\n",
       "          2220,   2213,   2390,   2216,   2089,   2490,   2268,   2208,\n",
       "          2490,   2490,   2523,   2089,   2213,   2208,   2430,   2910,\n",
       "          2910,   2910,   2910,   2506,   2001,   2213,   2523,   1946,\n",
       "          2523,   2581,   2265,   2523,   2460,   2581,   2490,   2490,\n",
       "          2208,   2523,   2506,   2490,   2220,   2490,   2506,  10557,\n",
       "          2081,   2490,   2268,   2523,   2281,   2430,   2886,   2430,\n",
       "          2265,   2523,   2490,   2490,   2490,   2240,   2523,   2538,\n",
       "          2208,   2281,   2490,   2052,   2490,   2490,   2247,   2490,\n",
       "          2220,   2481,   2220,   2490,   2523,   2596,   2523,   2490,\n",
       "          2265,   2213,   2220,   2220,   2523,   2230,   2204,   2204,\n",
       "          2739,   2250,   2352,   2250,   2352,   2554,   2523,   2285,\n",
       "          2523,   2523,   2523,   2431,   2052,   2213,   2390,   2045,\n",
       "          3151,   2265,   2208,   2490,   2490,  10280,   2490,   2460,\n",
       "          1531,   2523,   2523,   2213,   2220,   2490,   2523,   2523,\n",
       "          2265,   2538,   2523,   2538,   2523,   2052,   2490,   2523,\n",
       "          2103,   2523,   2029,   2213,   2220,   2739,   2538,   2490,\n",
       "          2490,   2467,   2490,   2052,   2352,   2430,   2352,   2523,\n",
       "          2523,   2582,   2052,   2208,   3092,   2352,   3092,   2352,\n",
       "          2739,   2352,   2910,   2352,   2352,   2352,   2581,   2910,\n",
       "          2910,   2625,   2910,   2119,   2910,   2910,   2910,   2910,\n",
       "          2119,   2352,   2352,   2352,   2739,   2581,   2910,   2352,\n",
       "          2352,   2352,   2352,   2581,   2352,   2352,   2352,   3092,\n",
       "          2352,   2352,   2352,   2352,   2739]], dtype=int64)"
      ]
     },
     "execution_count": 30,
     "metadata": {},
     "output_type": "execute_result"
    }
   ],
   "source": [
    "predictions = np.array(logmodel.predict(x_test)).reshape(1,len(cities))\n",
    "#predictions[0:10]"
   ]
  },
  {
   "cell_type": "code",
   "execution_count": 33,
   "metadata": {},
   "outputs": [
    {
     "data": {
      "text/plain": [
       "array([  2285,   2052,   2506,   2052,   2490,   2220,   2523,   2490,\n",
       "         2265,   2220,   2220,   2029,   2012,   2220,   2029,   2523,\n",
       "         2265,   2208,   2001,   2506,   2265,   2069,   2445,   2490,\n",
       "         2069,   2490,   2628,   2220,   2250,   2490,   2460,   2490,\n",
       "         2204,   2208,   2490,   2490,   2490,   2188,   2208,   2081,\n",
       "         2490,   2220,   2523,   2081,  10280,   2208,   2052,   2220,\n",
       "         2052,   2523,   2487,   2584,   2523,   2490,   2490,   2208,\n",
       "         2390,   2205,   2265,   2490,   2490,   2490,   2208,   2490,\n",
       "         2487,   2490,   2554,   2184,   2016,   2208,   2895,   2523,\n",
       "         1043,   2487,   2089,   2250,   2490,   2220,   2204,   2265,\n",
       "         2069,   2490,   2430,   2220,   2103,   2490,   2089,   2220,\n",
       "         2430,   2523,   2220,   2523,   2490,   2430,   2523,   2628,\n",
       "         2490,   2628,   2490,   2220,   2490,   2523,   2481,   2490,\n",
       "         2584,   2390,   2490,   2208,   2490,   2490,   2372,   2490,\n",
       "         2445,   2208,   2208,   2390,   2523,   2220,   2490,   2561,\n",
       "         2220,   2523,   8263,   2220,   2490,   2490,   2390,   2213,\n",
       "         2268,   2490,   9361,   2895,   2584,   3315,  11537,   2506,\n",
       "         2465,   2220,   2554,   2506,   2052,   2581,   2523,   2490,\n",
       "         2506,   2554,   2027,   2052,   2213,   2490,   2490,   2523,\n",
       "         2390,   2490,   2213,   2481,   2068,   2490,   2490,   2359,\n",
       "         2285,   2285,   2910,   2490,   2523,   2490,   2490,   2490,\n",
       "         2523,   2551,   2213,   2103,   2523,   2523,   2523,   2523,\n",
       "         2490,   2353,   2490,   2523,   2467,   2069,   2213,   2001,\n",
       "         2523,   2220,   2069,   2523,   2208,   2203,   2686, 145606,\n",
       "         2686,   2523,   2490,   2478,   2490,   2208,   2490,   2523,\n",
       "         2523,   2490,   2506,   2213,   2220,   2523,   2490,   2490,\n",
       "         2089,   2430,   2285,   2081,   2628,   2029,   3151,   2523,\n",
       "         2121,   2490,   2523,   2490,   2506,   2490,   2220,   2460,\n",
       "         2554,   2220,   2901,   2796,   2490,   2490,   2523,   2265,\n",
       "         2240,   2490,   2490,   2265,   2584,   2390,   2490,   9441,\n",
       "         1043,   2220,   2490,   2390,   8263,   2208,   2029,   2089,\n",
       "         2478,   2490,   2523,   2220,   2490,   2268,   2390,   2359,\n",
       "         2490,   2265,   2091,   2490,   2490,   2220,   2390,   2220,\n",
       "         2506,   2490,   2490,   2390,   2091,   2390,   2490,   2430,\n",
       "         2490,   2390,   2089,   2490,   2523,   2490,   2320,   2584,\n",
       "         2220,   2420,   2523,   2445,   2490,   2285,   2220,   2523,\n",
       "         2490,   2390,   2490,   2208,   2490,   2089,   2523,   2490,\n",
       "         2490,   2523,   2478,   2490,   2460,   2739,   2515,   2220,\n",
       "         2490,   2285,   2029,   2490,   2490,   2506,   2220,   2523,\n",
       "         2490,   2220,   2213,   2490,   2213,   2490,   2213,   2091,\n",
       "         2220,   2213,   2390,   2216,   2089,   2490,   2268,   2208,\n",
       "         2490,   2490,   2523,   2089,   2213,   2208,   2430,   2910,\n",
       "         2910,   2910,   2910,   2506,   2001,   2213,   2523,   1946,\n",
       "         2523,   2581,   2265,   2523,   2460,   2581,   2490,   2490,\n",
       "         2208,   2523,   2506,   2490,   2220,   2490,   2506,  10557,\n",
       "         2081,   2490,   2268,   2523,   2281,   2430,   2886,   2430,\n",
       "         2265,   2523,   2490,   2490,   2490,   2240,   2523,   2538,\n",
       "         2208,   2281,   2490,   2052,   2490,   2490,   2247,   2490,\n",
       "         2220,   2481,   2220,   2490,   2523,   2596,   2523,   2490,\n",
       "         2265,   2213,   2220,   2220,   2523,   2230,   2204,   2204,\n",
       "         2739,   2250,   2352,   2250,   2352,   2554,   2523,   2285,\n",
       "         2523,   2523,   2523,   2431,   2052,   2213,   2390,   2045,\n",
       "         3151,   2265,   2208,   2490,   2490,  10280,   2490,   2460,\n",
       "         1531,   2523,   2523,   2213,   2220,   2490,   2523,   2523,\n",
       "         2265,   2538,   2523,   2538,   2523,   2052,   2490,   2523,\n",
       "         2103,   2523,   2029,   2213,   2220,   2739,   2538,   2490,\n",
       "         2490,   2467,   2490,   2052,   2352,   2430,   2352,   2523,\n",
       "         2523,   2582,   2052,   2208,   3092,   2352,   3092,   2352,\n",
       "         2739,   2352,   2910,   2352,   2352,   2352,   2581,   2910,\n",
       "         2910,   2625,   2910,   2119,   2910,   2910,   2910,   2910,\n",
       "         2119,   2352,   2352,   2352,   2739,   2581,   2910,   2352,\n",
       "         2352,   2352,   2352,   2581,   2352,   2352,   2352,   3092,\n",
       "         2352,   2352,   2352,   2352,   2739], dtype=int64)"
      ]
     },
     "execution_count": 33,
     "metadata": {},
     "output_type": "execute_result"
    }
   ],
   "source": [
    "#predictions  =predictions[0]\n",
    "data_df = pd.DataFrame({\"City\":cities,\"Covid Cases\":predictions[0]})\n",
    "#predictions[0]"
   ]
  },
  {
   "cell_type": "code",
   "execution_count": 36,
   "metadata": {},
   "outputs": [
    {
     "name": "stdout",
     "output_type": "stream",
     "text": [
      "            City  Covid Cases\n",
      "0       Tuensang         2285\n",
      "1   Lakshmeshwar         2052\n",
      "2           Zira         2506\n",
      "3          Yawal         2052\n",
      "4   Thana Bhawan         2490\n",
      "5        Ramdurg         2220\n",
      "6        Pulgaon         2523\n",
      "7     Sadasivpet         2490\n",
      "8        Nargund         2265\n",
      "9  Neem-Ka-Thana         2220\n"
     ]
    }
   ],
   "source": [
    "#print(data_df.head(10))"
   ]
  },
  {
   "cell_type": "code",
   "execution_count": 37,
   "metadata": {},
   "outputs": [],
   "source": [
    "#writing data to csv\n",
    "data_df.to_csv(\"Flipr1.csv\",index=False)"
   ]
  }
 ],
 "metadata": {
  "kernelspec": {
   "display_name": "Python 3",
   "language": "python",
   "name": "python3"
  },
  "language_info": {
   "codemirror_mode": {
    "name": "ipython",
    "version": 3
   },
   "file_extension": ".py",
   "mimetype": "text/x-python",
   "name": "python",
   "nbconvert_exporter": "python",
   "pygments_lexer": "ipython3",
   "version": "3.7.4"
  }
 },
 "nbformat": 4,
 "nbformat_minor": 2
}
